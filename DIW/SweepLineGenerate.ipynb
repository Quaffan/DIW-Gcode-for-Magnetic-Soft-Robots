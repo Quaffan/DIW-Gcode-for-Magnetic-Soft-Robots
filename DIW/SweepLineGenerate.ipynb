{
 "cells": [
  {
   "cell_type": "code",
   "execution_count": 1,
   "id": "bd68c1ab",
   "metadata": {},
   "outputs": [],
   "source": [
    "import math\n",
    "# 设置输出文件名\n",
    "geom_name='test' \n",
    "# 绘制磁编程单元轮廓\n",
    "path = [(0,0),(17,0),(17+17*math.cos(56 * (math.pi / 180)),17*math.sin(56 * (math.pi / 180))),(17*math.cos(56 * (math.pi / 180)),17*math.sin(56 * (math.pi / 180)))] \n",
    "# 设置扫描线间距，单位 mm\n",
    "interval = 0.35\n",
    "# 设置扫描角度，单位 °\n",
    "angle_deg = 270+56"
   ]
  },
  {
   "cell_type": "code",
   "execution_count": 2,
   "id": "04628055",
   "metadata": {},
   "outputs": [],
   "source": [
    "from VtkAdaptor import *\n",
    "from SliceAlgo import *\n",
    "import Utility\n",
    "from GenHatch import *\n",
    "from Segment import *\n",
    "import csv"
   ]
  },
  {
   "cell_type": "code",
   "execution_count": 3,
   "id": "deb84cdc",
   "metadata": {},
   "outputs": [
    {
     "name": "stdout",
     "output_type": "stream",
     "text": [
      "CSV文件已生成!!!快去导出G代码吧~\n"
     ]
    }
   ],
   "source": [
    "poly = ClipperAdaptor(0).toPoly(path)\n",
    "\n",
    "# layers = readSlcFile(\"D:\\Research\\Model\\MSR at 0.2mm.slc\")\n",
    "\n",
    "angle = Utility.degToRad(angle_deg)\n",
    "# for layer in layers:\n",
    "#     poly = layer.contours\n",
    "#     segs = genSweepHatches(poly, 2, angle)\n",
    "\n",
    "segs = genSweepHatches([poly], interval, angle)\n",
    "\n",
    "# 打开一个新文件进行写入，如果文件已存在则覆盖\n",
    "with open(r\"E:\\JupyterNotebook\\DIW\\CSV\\%s.csv\" % geom_name, 'w', newline='', encoding='utf-8') as file:\n",
    "    # 写入列名\n",
    "    writer = csv.writer(file)\n",
    "    writer.writerow(['端点 X','端点 Y','端点 Z','起点 X','起点 Y','起点 Z'])\n",
    "    for seg in segs:\n",
    "        # 写入实例化的对象数据\n",
    "        writer.writerow([round(seg.B.x,4), round(seg.B.y,4), round(seg.B.z,4), round(seg.A.x,4), round(seg.A.y,4), round(seg.A.z,4)])\n",
    "print('CSV文件已生成!!!快去导出G代码吧~')"
   ]
  },
  {
   "cell_type": "code",
   "execution_count": 4,
   "id": "94e46263",
   "metadata": {},
   "outputs": [],
   "source": [
    "# vtk可视化模块\n",
    "va = VtkAdaptor()\n",
    "\n",
    "prop = va.drawPolyline(poly).GetProperty()\n",
    "prop.SetColor(0, 0, 0)\n",
    "prop.SetLineWidth(2)\n",
    "\n",
    "for i in range(len(segs)):\n",
    "    prop = va.drawSegment(segs[i]).GetProperty()\n",
    "    prop.SetColor(1, 0, 0)\n",
    "    prop.SetLineWidth(2)\n",
    "    textSrc = vtk.vtkVectorText()\n",
    "    textSrc.SetText('%d' % i)\n",
    "    textActor = va.drawPdSrc(textSrc)\n",
    "    textActor.SetPosition(segs[i].B.x, segs[i].B.y, segs[i].B.z)\n",
    "    textActor.SetScale(0.1)\n",
    "    textActor.GetProperty().SetColor(0, 0, 0)\n",
    "\n",
    "\n",
    "\n",
    "va.display()"
   ]
  },
  {
   "cell_type": "code",
   "execution_count": null,
   "id": "f0a43676",
   "metadata": {},
   "outputs": [],
   "source": []
  }
 ],
 "metadata": {
  "kernelspec": {
   "display_name": "Python 3 (ipykernel)",
   "language": "python",
   "name": "python3"
  },
  "language_info": {
   "codemirror_mode": {
    "name": "ipython",
    "version": 3
   },
   "file_extension": ".py",
   "mimetype": "text/x-python",
   "name": "python",
   "nbconvert_exporter": "python",
   "pygments_lexer": "ipython3",
   "version": "3.10.9"
  }
 },
 "nbformat": 4,
 "nbformat_minor": 5
}
