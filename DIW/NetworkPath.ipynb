{
 "cells": [
  {
   "cell_type": "code",
   "execution_count": 1,
   "id": "48af752a",
   "metadata": {},
   "outputs": [
    {
     "name": "stdout",
     "output_type": "stream",
     "text": [
      "Gcode file 搞定！！！\n"
     ]
    }
   ],
   "source": [
    "import pandas as pd\n",
    "data_name = \"negativeExpansion\"\n",
    "df = pd.read_csv(r\"E:\\JupyterNotebook\\DIW\\CSV\\%s.csv\" % data_name)\n",
    "def GenGcodeFile(df, pressure, print_speed, layerz, layern):\n",
    "    code = f\"G1 X0.0 Y0.0 Z50 F10\\nM100\\nM99 D{layern} L1\\nM108 I{pressure}\\nM102 H0\\nM171 T0\\nM172 L0\\nM175 P0 A1 N4\\n(<fill>)\\n\"\n",
    "    for j in range(1, layern+1):\n",
    "        if j==1:\n",
    "            df['起点 Z'] = 0.2\n",
    "            df['端点 Z'] = 0.2\n",
    "        else:\n",
    "            df['起点 Z'] = round(df['起点 Z'] + layerz, 3)\n",
    "            df['端点 Z'] = round(df['端点 Z'] + layerz, 3)\n",
    "        for i in range(0, df.shape[0]):\n",
    "            code += \"M103\\n\"\n",
    "            code += \"G1 X\" + str(df.loc[i, '起点 X']) + ' '\n",
    "            code += \"Y\" + str(df.loc[i, '起点 Y']) + ' '\n",
    "            code += \"Z\" + str(df.loc[i, '起点 Z']) + ' '\n",
    "            code += \"F\" + str(print_speed) + '\\n'\n",
    "        \n",
    "            code += \"M101\\n\"\n",
    "            code += \"G1 X\" + str(df.loc[i, '端点 X']) + ' '\n",
    "            code += \"Y\" + str(df.loc[i, '端点 Y']) + ' '\n",
    "            code += \"Z\" + str(df.loc[i, '端点 Z']) + ' '\n",
    "            code += \"F\" + str(print_speed) + '\\n'\n",
    "            \n",
    "        code += f\"\\n;第{j}层打印完毕\\n\\n\"\n",
    "    code += \"M103\\n\"\n",
    "    code += \"(</fill>)\\nG28\\nM02\"\n",
    "    return code\n",
    "\n",
    "def WriteGcodeFile(code, path):\n",
    "    f = None\n",
    "    try:\n",
    "        f = open(path, 'w', encoding='utf-8')\n",
    "        f.write(code)\n",
    "        print('Gcode file 搞定！！！')\n",
    "    except Exception as ex:\n",
    "        print(\"writeSlcFile exception:\", ex)\n",
    "    finally:\n",
    "        if f: f.close()\n",
    "# print(GenGcodeFile(df, 0.3, 6, 0.6, 2))\n",
    "# pressure, print_speed, layerz, layern\n",
    "WriteGcodeFile(GenGcodeFile(df, 0.3, 8, 0.4, 3),r\"E:\\JupyterNotebook\\DIW\\Gcode\\%s.txt\" % data_name)"
   ]
  },
  {
   "cell_type": "code",
   "execution_count": null,
   "id": "359a6da2",
   "metadata": {},
   "outputs": [],
   "source": []
  }
 ],
 "metadata": {
  "kernelspec": {
   "display_name": "Python 3 (ipykernel)",
   "language": "python",
   "name": "python3"
  },
  "language_info": {
   "codemirror_mode": {
    "name": "ipython",
    "version": 3
   },
   "file_extension": ".py",
   "mimetype": "text/x-python",
   "name": "python",
   "nbconvert_exporter": "python",
   "pygments_lexer": "ipython3",
   "version": "3.10.9"
  }
 },
 "nbformat": 4,
 "nbformat_minor": 5
}
