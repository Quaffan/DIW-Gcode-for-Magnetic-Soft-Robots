{
 "cells": [
  {
   "cell_type": "code",
   "execution_count": 1,
   "id": "c91dd619",
   "metadata": {},
   "outputs": [],
   "source": [
    "import GeomBase\n",
    "import pyclipper\n",
    "import vtk"
   ]
  },
  {
   "cell_type": "code",
   "execution_count": 2,
   "id": "9783ddcd",
   "metadata": {},
   "outputs": [
    {
     "name": "stdout",
     "output_type": "stream",
     "text": [
      "Vector3D: -1, -1, -1\n",
      "Point3D: 2, 2, 2\n",
      "1.7320508075688772\n",
      "Matrix3D:\n",
      "[1, 0, 0, 0]\n",
      "[0, 1, 0, 0]\n",
      "[0, 0, 1, 0]\n",
      "[1, 2, 3, 1]\n",
      "Matrix3D:\n",
      "[1, 0, 0, 0]\n",
      "[0, 1, 0, 0]\n",
      "[0, 0, 1, 0]\n",
      "[1, 2, 3, 1]\n",
      "Point3D: 1, 1, 1 Point3D: 2, 2, 2\n"
     ]
    }
   ],
   "source": [
    "x = 1\n",
    "p3 = GeomBase.Point3D(x, 1, 1)\n",
    "x = 2\n",
    "\n",
    "p1 = GeomBase.Point3D(1, 1, 1)\n",
    "p2 = GeomBase.Point3D(2, 2, 2)\n",
    "dis = p1.distance(p2)\n",
    "print(p1 - p2)\n",
    "v = p1 - p2\n",
    "p = p1 - v\n",
    "print(p)\n",
    "print(dis)\n",
    "\n",
    "\n",
    "m = GeomBase.Matrix3D.createTranslateMatrix(1, 2, 3)\n",
    "print(m)\n",
    "print(m)\n",
    "print(p1, p2)\n"
   ]
  },
  {
   "cell_type": "code",
   "execution_count": null,
   "id": "559a4a5a",
   "metadata": {},
   "outputs": [],
   "source": []
  }
 ],
 "metadata": {
  "kernelspec": {
   "display_name": "Python 3 (ipykernel)",
   "language": "python",
   "name": "python3"
  },
  "language_info": {
   "codemirror_mode": {
    "name": "ipython",
    "version": 3
   },
   "file_extension": ".py",
   "mimetype": "text/x-python",
   "name": "python",
   "nbconvert_exporter": "python",
   "pygments_lexer": "ipython3",
   "version": "3.10.9"
  }
 },
 "nbformat": 4,
 "nbformat_minor": 5
}
